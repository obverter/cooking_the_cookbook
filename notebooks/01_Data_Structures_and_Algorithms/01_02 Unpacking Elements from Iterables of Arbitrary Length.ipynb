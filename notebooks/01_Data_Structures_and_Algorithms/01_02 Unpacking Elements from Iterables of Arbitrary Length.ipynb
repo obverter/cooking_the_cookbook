{
 "cells": [
  {
   "cell_type": "markdown",
   "metadata": {},
   "source": [
    "# 1.2. Unpacking Elements from Iterables of Arbitrary Length"
   ]
  },
  {
   "cell_type": "markdown",
   "metadata": {},
   "source": []
  },
  {
   "cell_type": "markdown",
   "metadata": {},
   "source": [
    "### Problem We're Trying to Solve"
   ]
  },
  {
   "cell_type": "markdown",
   "metadata": {},
   "source": [
    ">You need to unpack N elements from an iterable, but the iterable may be longer than N elements, causing a “too many values to unpack” exception."
   ]
  },
  {
   "cell_type": "markdown",
   "metadata": {},
   "source": [
    "### Solution We're Provided"
   ]
  },
  {
   "cell_type": "markdown",
   "metadata": {},
   "source": [
    "**Python Star Expressions**"
   ]
  },
  {
   "cell_type": "markdown",
   "metadata": {},
   "source": [
    "\n",
    "#### Dropping the first and last assignments from a set of homework assignments:\n",
    "\n",
    "```python\n",
    "def drop_first_last(grades):\n",
    "    first, *middle, last = grades return avg(middle)\n",
    "```\n"
   ]
  },
  {
   "cell_type": "markdown",
   "metadata": {},
   "source": [
    "\n",
    "#### Comparing the company's current quarter to the trailing seven:\n",
    "\n",
    "```python\n",
    "*trailing_qtrs, current_qtr = sales_record\n",
    "trailing_avg = sum(trailing_qtrs) / len(trailing_qtrs)\n",
    "return avg_comparison(trailing_avg, current_qtr)\n",
    "```"
   ]
  },
  {
   "cell_type": "markdown",
   "metadata": {},
   "source": [
    "### Discussion\n",
    "\n",
    "So long as what you're iterating over has some sort of describable structure,\n",
    "star expressions can be used to unpack the elements of the iterable even if you\n",
    "don't know how many elements there are."
   ]
  },
  {
   "cell_type": "markdown",
   "metadata": {},
   "source": [
    "--------------------------------------------------------------------------------"
   ]
  },
  {
   "cell_type": "markdown",
   "metadata": {},
   "source": [
    "## (Im?)plausible Scenario"
   ]
  },
  {
   "cell_type": "markdown",
   "metadata": {},
   "source": [
    "I have a bunch of lists. I want to get the averages of each list's numbers that\n",
    "are not the first or the last number."
   ]
  },
  {
   "cell_type": "markdown",
   "metadata": {},
   "source": [
    "### Cooking"
   ]
  },
  {
   "cell_type": "markdown",
   "metadata": {},
   "source": [
    "Let's make a bunch of lists."
   ]
  },
  {
   "cell_type": "code",
   "execution_count": 27,
   "metadata": {},
   "outputs": [],
   "source": [
    "import random\n",
    "import math"
   ]
  },
  {
   "cell_type": "code",
   "execution_count": 24,
   "metadata": {},
   "outputs": [],
   "source": [
    "def listgen(n):\n",
    "    for __ in range(n):\n",
    "        end = []\n",
    "        for _ in range(n):\n",
    "            pin = random.randint(5, 30)\n",
    "            hold = [random.randint(0, 100) for _ in range(3, pin)]\n",
    "            end.append(hold)\n",
    "    return end\n"
   ]
  },
  {
   "cell_type": "code",
   "execution_count": 39,
   "metadata": {},
   "outputs": [
    {
     "data": {
      "text/plain": [
       "[[28, 62, 83, 73, 97, 61, 98, 75, 70, 22, 78, 35, 86],\n",
       " [84, 62, 63, 75, 0, 62, 79, 41, 52, 8, 59, 63, 29, 35, 53, 13],\n",
       " [31, 50, 13, 7],\n",
       " [18, 98, 8, 16, 36, 50, 21],\n",
       " [56, 64, 8, 48, 12, 12, 70, 63, 34, 50, 34, 75, 68, 76, 57]]"
      ]
     },
     "execution_count": 39,
     "metadata": {},
     "output_type": "execute_result"
    }
   ],
   "source": [
    "lists = listgen(5)\n",
    "lists"
   ]
  },
  {
   "cell_type": "code",
   "execution_count": 40,
   "metadata": {},
   "outputs": [],
   "source": [
    "from statistics import mean\n",
    "\n",
    "def avg_1_neg_1(list):\n",
    "    first, *middle, last = list\n",
    "    return mean(middle)"
   ]
  },
  {
   "cell_type": "code",
   "execution_count": 41,
   "metadata": {},
   "outputs": [
    {
     "data": {
      "text/plain": [
       "[68.55, 48.64, 31.5, 41.6, 47.23]"
      ]
     },
     "execution_count": 41,
     "metadata": {},
     "output_type": "execute_result"
    }
   ],
   "source": [
    "averages = []\n",
    "for list in lists:\n",
    "    average = avg_1_neg_1(list)\n",
    "    averages.append(round(average, 2))\n",
    "averages"
   ]
  },
  {
   "cell_type": "code",
   "execution_count": null,
   "metadata": {},
   "outputs": [],
   "source": []
  },
  {
   "cell_type": "code",
   "execution_count": null,
   "metadata": {},
   "outputs": [],
   "source": []
  }
 ],
 "metadata": {
  "kernelspec": {
   "display_name": "Python 3.10.5 64-bit ('3.10.5')",
   "language": "python",
   "name": "python3"
  },
  "language_info": {
   "codemirror_mode": {
    "name": "ipython",
    "version": 3
   },
   "file_extension": ".py",
   "mimetype": "text/x-python",
   "name": "python",
   "nbconvert_exporter": "python",
   "pygments_lexer": "ipython3",
   "version": "3.10.5"
  },
  "orig_nbformat": 4,
  "vscode": {
   "interpreter": {
    "hash": "134736d2bd8d30a43a7e81209d4f3bae1a364c8aa0c0cc845bdcd189c4629406"
   }
  }
 },
 "nbformat": 4,
 "nbformat_minor": 2
}
